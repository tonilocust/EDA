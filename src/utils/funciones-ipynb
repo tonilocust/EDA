def hypotesis_check(p_value):
    alpha=0.05
    if p < alpha:
        print("Rechazar la hipótesis nula: la muestra no parece seguir una distribución normal")
    else:
        print("No se puede rechazar la hipótesis nula: la muestra parece seguir una distribución normal")