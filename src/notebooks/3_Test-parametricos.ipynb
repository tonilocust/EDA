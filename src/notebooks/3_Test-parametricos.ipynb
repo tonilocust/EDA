{
 "cells": [
  {
   "attachments": {},
   "cell_type": "markdown",
   "metadata": {},
   "source": [
    "# Test paramétricos\n",
    "\n",
    "Son aquellos test que *asumen* que los **datos** siguen una `distribución específica`, generalmente la distribución normal o gaussiana, y que las `varianzas son iguales` en las poblaciones comparadas.\n",
    "\n",
    "![img_inicial](img/img6.webp)\n",
    "\n",
    "\n"
   ]
  },
  {
   "cell_type": "markdown",
   "metadata": {},
   "source": [
    "Principales test paramétricos: \n",
    "\n",
    "1. **T-test** o t-Student: se utiliza para comparar las `medias` de `dos grupos independientes`.\n",
    "\n",
    "2. **T-test pareada**: se utiliza para comparar las `medias` de `dos grupos dependientes`\n",
    "\n",
    "2. Análisis de varianza **(ANOVA)**: se utiliza para comparar las `medias` de `tres o más grupos independientes`."
   ]
  },
  {
   "cell_type": "markdown",
   "metadata": {},
   "source": [
    "## T-test:\n",
    "\n",
    "Compara las medias de `dos grupos independientes`. Se utiliza cuando se tiene una variable categórica con dos niveles (por ejemplo, hombres y mujeres) y una variable continua (por ejemplo, ingresos), y se desea evaluar si hay una diferencia significativa en las medias de la variable continua entre los dos grupos.\n",
    "\n",
    "Condiciones o requerimientos para realizar el t-test con cierta fiabilidad:\n",
    "\n",
    "- **Independencia de las observaciones**: cada observación debe ser independiente de las demás.\n",
    "\n",
    "- **Normalidad**: las distribuciones de cada grupo deben ser normales.\n",
    "\n",
    "- **Homogeneidad de varianzas**: la varianza de cada grupo debe ser igual."
   ]
  },
  {
   "cell_type": "markdown",
   "metadata": {},
   "source": [
    "### T-test: dos grupos independientes"
   ]
  },
  {
   "cell_type": "markdown",
   "metadata": {},
   "source": [
    "Planteamiento de hipótesis: \n",
    "\n",
    "- `H0`: los `pesos medios` de los pingüinos machos son `iguales` a los pesos medios de las hembras\n",
    "\n",
    "- H1: los pesos medios de hembra y macho si difieren"
   ]
  },
  {
   "cell_type": "code",
   "execution_count": 31,
   "metadata": {},
   "outputs": [],
   "source": [
    "import seaborn as sns \n",
    "from scipy.stats import ttest_ind\n",
    "\n",
    "penguins = sns.load_dataset(\"penguins\").dropna()"
   ]
  },
  {
   "cell_type": "code",
   "execution_count": 32,
   "metadata": {},
   "outputs": [
    {
     "data": {
      "text/html": [
       "<div>\n",
       "<style scoped>\n",
       "    .dataframe tbody tr th:only-of-type {\n",
       "        vertical-align: middle;\n",
       "    }\n",
       "\n",
       "    .dataframe tbody tr th {\n",
       "        vertical-align: top;\n",
       "    }\n",
       "\n",
       "    .dataframe thead th {\n",
       "        text-align: right;\n",
       "    }\n",
       "</style>\n",
       "<table border=\"1\" class=\"dataframe\">\n",
       "  <thead>\n",
       "    <tr style=\"text-align: right;\">\n",
       "      <th></th>\n",
       "      <th>species</th>\n",
       "      <th>island</th>\n",
       "      <th>bill_length_mm</th>\n",
       "      <th>bill_depth_mm</th>\n",
       "      <th>flipper_length_mm</th>\n",
       "      <th>body_mass_g</th>\n",
       "      <th>sex</th>\n",
       "    </tr>\n",
       "  </thead>\n",
       "  <tbody>\n",
       "    <tr>\n",
       "      <th>0</th>\n",
       "      <td>Adelie</td>\n",
       "      <td>Torgersen</td>\n",
       "      <td>39.1</td>\n",
       "      <td>18.7</td>\n",
       "      <td>181.0</td>\n",
       "      <td>3750.0</td>\n",
       "      <td>Male</td>\n",
       "    </tr>\n",
       "    <tr>\n",
       "      <th>1</th>\n",
       "      <td>Adelie</td>\n",
       "      <td>Torgersen</td>\n",
       "      <td>39.5</td>\n",
       "      <td>17.4</td>\n",
       "      <td>186.0</td>\n",
       "      <td>3800.0</td>\n",
       "      <td>Female</td>\n",
       "    </tr>\n",
       "    <tr>\n",
       "      <th>2</th>\n",
       "      <td>Adelie</td>\n",
       "      <td>Torgersen</td>\n",
       "      <td>40.3</td>\n",
       "      <td>18.0</td>\n",
       "      <td>195.0</td>\n",
       "      <td>3250.0</td>\n",
       "      <td>Female</td>\n",
       "    </tr>\n",
       "    <tr>\n",
       "      <th>4</th>\n",
       "      <td>Adelie</td>\n",
       "      <td>Torgersen</td>\n",
       "      <td>36.7</td>\n",
       "      <td>19.3</td>\n",
       "      <td>193.0</td>\n",
       "      <td>3450.0</td>\n",
       "      <td>Female</td>\n",
       "    </tr>\n",
       "    <tr>\n",
       "      <th>5</th>\n",
       "      <td>Adelie</td>\n",
       "      <td>Torgersen</td>\n",
       "      <td>39.3</td>\n",
       "      <td>20.6</td>\n",
       "      <td>190.0</td>\n",
       "      <td>3650.0</td>\n",
       "      <td>Male</td>\n",
       "    </tr>\n",
       "  </tbody>\n",
       "</table>\n",
       "</div>"
      ],
      "text/plain": [
       "  species     island  bill_length_mm  bill_depth_mm  flipper_length_mm  \\\n",
       "0  Adelie  Torgersen            39.1           18.7              181.0   \n",
       "1  Adelie  Torgersen            39.5           17.4              186.0   \n",
       "2  Adelie  Torgersen            40.3           18.0              195.0   \n",
       "4  Adelie  Torgersen            36.7           19.3              193.0   \n",
       "5  Adelie  Torgersen            39.3           20.6              190.0   \n",
       "\n",
       "   body_mass_g     sex  \n",
       "0       3750.0    Male  \n",
       "1       3800.0  Female  \n",
       "2       3250.0  Female  \n",
       "4       3450.0  Female  \n",
       "5       3650.0    Male  "
      ]
     },
     "execution_count": 32,
     "metadata": {},
     "output_type": "execute_result"
    }
   ],
   "source": [
    "penguins.head()"
   ]
  },
  {
   "cell_type": "code",
   "execution_count": 33,
   "metadata": {},
   "outputs": [],
   "source": [
    "male_penguins = penguins.loc[penguins.sex == \"Male\", \"body_mass_g\"]\n",
    "female_penguins = penguins.loc[penguins.sex == \"Female\", \"body_mass_g\"]"
   ]
  },
  {
   "cell_type": "code",
   "execution_count": 34,
   "metadata": {},
   "outputs": [],
   "source": [
    "# Selección del nivel de significación\n",
    "alpha = 0.05 "
   ]
  },
  {
   "cell_type": "code",
   "execution_count": 35,
   "metadata": {},
   "outputs": [
    {
     "name": "stdout",
     "output_type": "stream",
     "text": [
      "8.541720337994516 4.897246751596224e-16\n"
     ]
    }
   ],
   "source": [
    "# Calculo del estadístico y p-valor\n",
    "stat, p = ttest_ind(male_penguins, female_penguins)\n",
    "print(stat,p)"
   ]
  },
  {
   "cell_type": "code",
   "execution_count": 52,
   "metadata": {},
   "outputs": [
    {
     "name": "stdout",
     "output_type": "stream",
     "text": [
      "Rechazar la hipótesis nula: hay una diferencia significativa entre los pesos medios (p-value: 0.0000)\n"
     ]
    }
   ],
   "source": [
    "# Decisión en función del p-valor y el nivel de significación\n",
    "\n",
    "if p < alpha:\n",
    "    print(\"Rechazar la hipótesis nula: hay una diferencia significativa entre los pesos medios (p-value: {:.4f})\".format(p))\n",
    "else:\n",
    "    print(\"No se puede rechazar la hipótesis nula: no hay una diferencia significativa entre los pesos medios (p-value: {:.4f})\".format(p))\n"
   ]
  },
  {
   "cell_type": "markdown",
   "metadata": {},
   "source": [
    "### T-test: un grupo y valor de referencia"
   ]
  },
  {
   "cell_type": "markdown",
   "metadata": {},
   "source": [
    "Planteamiento de hipótesis: \n",
    "\n",
    "- `H0`: las `notas medias` de la clase son `iguales` a 7\n",
    "\n",
    "- H1: las notas medios de la clase difieren de 7"
   ]
  },
  {
   "cell_type": "code",
   "execution_count": 23,
   "metadata": {},
   "outputs": [],
   "source": [
    "import numpy as np\n",
    "from scipy.stats import ttest_1samp"
   ]
  },
  {
   "cell_type": "code",
   "execution_count": 24,
   "metadata": {},
   "outputs": [],
   "source": [
    "# Muestra de calificaciones de un examen\n",
    "calificaciones = np.array([6.7, 7.5, 7.8, 6.9, 7.2, 8.1, 7.3, 6.5, 7.7, 7.0])"
   ]
  },
  {
   "cell_type": "code",
   "execution_count": 6,
   "metadata": {},
   "outputs": [],
   "source": [
    "# Hipótesis nula: la media es igual a 7\n",
    "# Hipótesis alternativa: la media es diferente de 7\n",
    "h0 = 7\n",
    "\n",
    "# Selección del nivel de significación\n",
    "alpha = 0.05"
   ]
  },
  {
   "cell_type": "code",
   "execution_count": 27,
   "metadata": {},
   "outputs": [
    {
     "name": "stdout",
     "output_type": "stream",
     "text": [
      "1.674111239086955 0.12843342991267162\n"
     ]
    }
   ],
   "source": [
    "# Calculo del estadístico y p-valor\n",
    "stat, p = ttest_1samp(calificaciones, h0)\n",
    "print(stat,p)"
   ]
  },
  {
   "cell_type": "code",
   "execution_count": 28,
   "metadata": {},
   "outputs": [
    {
     "name": "stdout",
     "output_type": "stream",
     "text": [
      "No se puede rechazar la hipótesis nula: la media no es significativamente diferente de 7\n"
     ]
    }
   ],
   "source": [
    "# Comprobar el valor p frente al nivel de significancia\n",
    "if p < alpha:\n",
    "    print(\"Rechazar la hipótesis nula: la media es significativamente diferente de 7\")\n",
    "else:\n",
    "    print(\"No se puede rechazar la hipótesis nula: la media no es significativamente diferente de 7\")\n"
   ]
  },
  {
   "cell_type": "markdown",
   "metadata": {},
   "source": [
    "## T-test pareada: \n",
    "\n",
    "Compara las `medias de dos grupos relacionados o pareados`, como las mediciones antes y después de un tratamiento en el mismo grupo de sujetos. Se utiliza cuando se tiene un diseño experimental de medidas repetidas o pareadas y se desea evaluar si hay una diferencia significativa en las medias antes y después del tratamiento.\n",
    "\n",
    "En el caso del t-test pareado, también se deben cumplir los supuestos de **normalidad** e **independencia**, pero no es necesario que se cumpla el supuesto de homogeneidad de varianzas, ya que se trabaja con las diferencias entre las observaciones pareadas y no con las observaciones en sí."
   ]
  },
  {
   "cell_type": "markdown",
   "metadata": {},
   "source": [
    "> Supongamos que queremos comparar la longitud del pico de los pingüinos macho antes y después de una cierta intervención.\n",
    "\n",
    "Planteamiento de hipótesis: \n",
    "\n",
    "- `H0`: `no hay diferencia` en la longitud del pico `antes y después` del tratamiento\n",
    "\n",
    "- H1: hay diferencia en la longitud del pico antes y después del tratamiento"
   ]
  },
  {
   "cell_type": "code",
   "execution_count": 3,
   "metadata": {},
   "outputs": [],
   "source": [
    "from scipy.stats import ttest_rel"
   ]
  },
  {
   "cell_type": "code",
   "execution_count": 40,
   "metadata": {},
   "outputs": [],
   "source": [
    "before = penguins.loc[penguins.species == \"Adelie\", \"bill_length_mm\"]\n",
    "after = penguins.loc[penguins.species == \"Adelie\", \"bill_depth_mm\"]\n",
    "\n",
    "paired_data = list(zip(before, after))"
   ]
  },
  {
   "cell_type": "code",
   "execution_count": 43,
   "metadata": {},
   "outputs": [
    {
     "name": "stdout",
     "output_type": "stream",
     "text": [
      "100.41650563037696 6.4782416356389175e-136\n"
     ]
    }
   ],
   "source": [
    "# Calculo del estadístico y p-valor\n",
    "stat, p_value = ttest_rel(before, after)\n",
    "print(stat,p_value)"
   ]
  },
  {
   "cell_type": "code",
   "execution_count": 44,
   "metadata": {},
   "outputs": [
    {
     "name": "stdout",
     "output_type": "stream",
     "text": [
      "Rechazar la hipótesis nula: hay diferencia en la longitud del pico antes y después del tratamiento\n"
     ]
    }
   ],
   "source": [
    "# Comprobar el valor p frente al nivel de significancia\n",
    "if p_value < alpha:\n",
    "    print(\"Rechazar la hipótesis nula: hay diferencia en la longitud del pico antes y después del tratamiento\")\n",
    "else:\n",
    "    print(\"No se puede rechazar la hipótesis nula: no hay una diferencia significativa en la longitud del pico antes y después del tratamiento\")\n"
   ]
  },
  {
   "cell_type": "markdown",
   "metadata": {},
   "source": [
    "## ANOVA:\n",
    "\n",
    "ANOVA (Análisis de Varianza) es una técnica estadística utilizada para comparar las `medias de más de dos grupos independientes`. \n",
    "\n",
    "En el análisis de varianza, se divide la variación total de los datos en dos componentes: la variación debida a las diferencias entre los grupos y la variación debida a las diferencias dentro de los grupos.\n",
    "\n",
    "Condiciones y supuestos requeridos:\n",
    "\n",
    "- **Independencia de las observaciones**: cada observación debe ser independiente de las demás.\n",
    "\n",
    "- **Normalidad**: las distribuciones de cada grupo deben ser normales.\n",
    "\n",
    "- **Homogeneidad de varianzas**: la varianza de cada grupo debe ser igual.\n"
   ]
  },
  {
   "cell_type": "markdown",
   "metadata": {},
   "source": [
    "### ANOVA un factor (one-way)"
   ]
  },
  {
   "cell_type": "markdown",
   "metadata": {},
   "source": [
    "> Comparar el promedio del largo del pico entre las tres especies de pingüinos, Gentoo, Adelie y Chinstrap"
   ]
  },
  {
   "cell_type": "markdown",
   "metadata": {},
   "source": [
    "Planteamiento de hipótesis: \n",
    "\n",
    "- `H0`: `no hay diferencia` en la longitud del pico `entre las tres` especies\n",
    "\n",
    "- H1: hay diferencia en la longitud del pico entre las tres especies"
   ]
  },
  {
   "cell_type": "code",
   "execution_count": 46,
   "metadata": {},
   "outputs": [],
   "source": [
    "from scipy.stats import f_oneway\n",
    "\n",
    "df = penguins.copy()\n",
    "species = df['species'].unique()"
   ]
  },
  {
   "cell_type": "code",
   "execution_count": 47,
   "metadata": {},
   "outputs": [],
   "source": [
    "sample1 = df.loc[df['species'] == species[0], 'bill_length_mm']\n",
    "sample2 = df.loc[df['species'] == species[1], 'bill_length_mm']\n",
    "sample3 = df.loc[df['species'] == species[2], 'bill_length_mm']"
   ]
  },
  {
   "cell_type": "code",
   "execution_count": 48,
   "metadata": {},
   "outputs": [
    {
     "name": "stdout",
     "output_type": "stream",
     "text": [
      "One-way ANOVA\n",
      "F-value: 397.29943741282835\n",
      "p-value: 1.3809842053150027e-88\n"
     ]
    }
   ],
   "source": [
    "# Calculo del estadístico y p-valor\n",
    "f, p = f_oneway(sample1, sample2, sample3)\n",
    "print(\"One-way ANOVA\")\n",
    "print(\"F-value:\", f)\n",
    "print(\"p-value:\", p)"
   ]
  },
  {
   "cell_type": "code",
   "execution_count": 49,
   "metadata": {},
   "outputs": [
    {
     "name": "stdout",
     "output_type": "stream",
     "text": [
      "Rechazar la hipótesis nula: hay diferencia en la longitud del pico de las tres especies\n"
     ]
    }
   ],
   "source": [
    "# Comprobar el valor p frente al nivel de significancia\n",
    "if p < alpha:\n",
    "    print(\"Rechazar la hipótesis nula: hay diferencia en la longitud del pico de las tres especies\")\n",
    "else:\n",
    "    print(\"No se puede rechazar la hipótesis nula: no hay una diferencia significativa en la longitud del pico de las tres especies\")\n"
   ]
  },
  {
   "cell_type": "markdown",
   "metadata": {},
   "source": [
    "### ANOVA multifactorial (two-way)\n",
    "\n",
    "Comparamos la media de una variable numérica en función de dos variables categóricas que pueden interactuar entre sí\n"
   ]
  },
  {
   "cell_type": "markdown",
   "metadata": {},
   "source": [
    "> Comparar el peso de los pingüinos en función de la especie y el sexo"
   ]
  },
  {
   "cell_type": "code",
   "execution_count": 50,
   "metadata": {},
   "outputs": [],
   "source": [
    "import statsmodels.api as sm\n",
    "from statsmodels.formula.api import ols\n",
    "\n",
    "df = penguins.copy()"
   ]
  },
  {
   "cell_type": "code",
   "execution_count": 51,
   "metadata": {},
   "outputs": [
    {
     "name": "stdout",
     "output_type": "stream",
     "text": [
      "Two-way ANOVA\n",
      "                   sum_sq     df           F         PR(>F)\n",
      "species      1.434016e+08    2.0  749.015666  8.144406e-123\n",
      "sex          3.709026e+07    1.0  387.459976   1.902273e-57\n",
      "species:sex  1.676557e+06    2.0    8.756997   1.973489e-04\n",
      "Residual     3.130263e+07  327.0         NaN            NaN\n"
     ]
    }
   ],
   "source": [
    "# Calculo del estadístico y p-valor\n",
    "model = ols('body_mass_g ~ species + sex + species:sex', data=df).fit()\n",
    "table = sm.stats.anova_lm(model, typ=2)\n",
    "print(\"Two-way ANOVA\")\n",
    "print(table)"
   ]
  }
 ],
 "metadata": {
  "kernelspec": {
   "display_name": "Python 3 (ipykernel)",
   "language": "python",
   "name": "python3"
  },
  "language_info": {
   "codemirror_mode": {
    "name": "ipython",
    "version": 3
   },
   "file_extension": ".py",
   "mimetype": "text/x-python",
   "name": "python",
   "nbconvert_exporter": "python",
   "pygments_lexer": "ipython3",
   "version": "3.8.8"
  }
 },
 "nbformat": 4,
 "nbformat_minor": 2
}
